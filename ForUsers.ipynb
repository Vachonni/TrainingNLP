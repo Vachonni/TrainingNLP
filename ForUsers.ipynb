{
 "cells": [
  {
   "cell_type": "code",
   "execution_count": 2,
   "metadata": {},
   "outputs": [],
   "source": [
    "import pickle\n",
    "import tarfile\n",
    "\n",
    "import config"
   ]
  },
  {
   "cell_type": "code",
   "execution_count": 8,
   "metadata": {},
   "outputs": [],
   "source": [
    "with tarfile.open(config.base_dir + '/Data/data.tar.bz2', 'r:bz2') as tar:\n",
    "    datafile = tar.extractfile('data/allocine_dataset.pickle')\n",
    "    data = pickle.load(datafile)"
   ]
  },
  {
   "cell_type": "code",
   "execution_count": 9,
   "metadata": {},
   "outputs": [
    {
     "data": {
      "text/html": [
       "<div>\n",
       "<style scoped>\n",
       "    .dataframe tbody tr th:only-of-type {\n",
       "        vertical-align: middle;\n",
       "    }\n",
       "\n",
       "    .dataframe tbody tr th {\n",
       "        vertical-align: top;\n",
       "    }\n",
       "\n",
       "    .dataframe thead th {\n",
       "        text-align: right;\n",
       "    }\n",
       "</style>\n",
       "<table border=\"1\" class=\"dataframe\">\n",
       "  <thead>\n",
       "    <tr style=\"text-align: right;\">\n",
       "      <th></th>\n",
       "      <th>film-url</th>\n",
       "      <th>review</th>\n",
       "      <th>polarity</th>\n",
       "    </tr>\n",
       "  </thead>\n",
       "  <tbody>\n",
       "    <tr>\n",
       "      <th>0</th>\n",
       "      <td>http://www.allocine.fr/film/fichefilm-25385/cr...</td>\n",
       "      <td>Magnifique épopée, une belle histoire, touchan...</td>\n",
       "      <td>1</td>\n",
       "    </tr>\n",
       "    <tr>\n",
       "      <th>1</th>\n",
       "      <td>http://www.allocine.fr/film/fichefilm-1954/cri...</td>\n",
       "      <td>Je n'ai pas aimé mais pourtant je lui mets 2 é...</td>\n",
       "      <td>0</td>\n",
       "    </tr>\n",
       "    <tr>\n",
       "      <th>2</th>\n",
       "      <td>http://www.allocine.fr/film/fichefilm-135523/c...</td>\n",
       "      <td>Un dessin animé qui brille par sa féerie et se...</td>\n",
       "      <td>1</td>\n",
       "    </tr>\n",
       "    <tr>\n",
       "      <th>3</th>\n",
       "      <td>http://www.allocine.fr/film/fichefilm-61514/cr...</td>\n",
       "      <td>Si c'est là le renouveau du cinéma français, c...</td>\n",
       "      <td>0</td>\n",
       "    </tr>\n",
       "    <tr>\n",
       "      <th>4</th>\n",
       "      <td>http://www.allocine.fr/film/fichefilm-260395/c...</td>\n",
       "      <td>Et pourtant on s’en Doutait !Second volet très...</td>\n",
       "      <td>0</td>\n",
       "    </tr>\n",
       "  </tbody>\n",
       "</table>\n",
       "</div>"
      ],
      "text/plain": [
       "                                            film-url  \\\n",
       "0  http://www.allocine.fr/film/fichefilm-25385/cr...   \n",
       "1  http://www.allocine.fr/film/fichefilm-1954/cri...   \n",
       "2  http://www.allocine.fr/film/fichefilm-135523/c...   \n",
       "3  http://www.allocine.fr/film/fichefilm-61514/cr...   \n",
       "4  http://www.allocine.fr/film/fichefilm-260395/c...   \n",
       "\n",
       "                                              review  polarity  \n",
       "0  Magnifique épopée, une belle histoire, touchan...         1  \n",
       "1  Je n'ai pas aimé mais pourtant je lui mets 2 é...         0  \n",
       "2  Un dessin animé qui brille par sa féerie et se...         1  \n",
       "3  Si c'est là le renouveau du cinéma français, c...         0  \n",
       "4  Et pourtant on s’en Doutait !Second volet très...         0  "
      ]
     },
     "execution_count": 9,
     "metadata": {},
     "output_type": "execute_result"
    }
   ],
   "source": [
    "data[\"test_set\"].head(5)"
   ]
  },
  {
   "cell_type": "code",
   "execution_count": null,
   "metadata": {},
   "outputs": [],
   "source": []
  }
 ],
 "metadata": {
  "kernelspec": {
   "display_name": "Python 3",
   "language": "python",
   "name": "python3"
  },
  "language_info": {
   "codemirror_mode": {
    "name": "ipython",
    "version": 3
   },
   "file_extension": ".py",
   "mimetype": "text/x-python",
   "name": "python",
   "nbconvert_exporter": "python",
   "pygments_lexer": "ipython3",
   "version": "3.10.12"
  },
  "orig_nbformat": 4
 },
 "nbformat": 4,
 "nbformat_minor": 2
}
